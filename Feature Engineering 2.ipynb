{
 "cells": [
  {
   "cell_type": "code",
   "execution_count": 1,
   "id": "c6ea317d",
   "metadata": {},
   "outputs": [],
   "source": [
    "import pandas as pd, numpy as np, matplotlib.pyplot as plt, seaborn as sns"
   ]
  },
  {
   "cell_type": "code",
   "execution_count": 2,
   "id": "d0556687",
   "metadata": {},
   "outputs": [],
   "source": [
    "df = pd.read_csv('Data/blr_data_final.csv')"
   ]
  },
  {
   "cell_type": "code",
   "execution_count": 3,
   "id": "4edcbdfe",
   "metadata": {},
   "outputs": [],
   "source": [
    "df = df.drop('Datetime',axis=1)"
   ]
  },
  {
   "cell_type": "code",
   "execution_count": 4,
   "id": "01f688d8",
   "metadata": {},
   "outputs": [
    {
     "data": {
      "text/html": [
       "<div>\n",
       "<style scoped>\n",
       "    .dataframe tbody tr th:only-of-type {\n",
       "        vertical-align: middle;\n",
       "    }\n",
       "\n",
       "    .dataframe tbody tr th {\n",
       "        vertical-align: top;\n",
       "    }\n",
       "\n",
       "    .dataframe thead th {\n",
       "        text-align: right;\n",
       "    }\n",
       "</style>\n",
       "<table border=\"1\" class=\"dataframe\">\n",
       "  <thead>\n",
       "    <tr style=\"text-align: right;\">\n",
       "      <th></th>\n",
       "      <th>PM2.5</th>\n",
       "      <th>PM10</th>\n",
       "      <th>NO</th>\n",
       "      <th>NO2</th>\n",
       "      <th>NOx</th>\n",
       "      <th>NH3</th>\n",
       "      <th>CO</th>\n",
       "      <th>SO2</th>\n",
       "      <th>O3</th>\n",
       "      <th>Benzene</th>\n",
       "      <th>Toluene</th>\n",
       "      <th>AQI</th>\n",
       "      <th>Time_Season_Mean</th>\n",
       "    </tr>\n",
       "  </thead>\n",
       "  <tbody>\n",
       "    <tr>\n",
       "      <th>0</th>\n",
       "      <td>30.42</td>\n",
       "      <td>69.580</td>\n",
       "      <td>2.04</td>\n",
       "      <td>12.40</td>\n",
       "      <td>7.58</td>\n",
       "      <td>19.10</td>\n",
       "      <td>0.19</td>\n",
       "      <td>4.05</td>\n",
       "      <td>12.41</td>\n",
       "      <td>0.56</td>\n",
       "      <td>3.43</td>\n",
       "      <td>84.0</td>\n",
       "      <td>104.679061</td>\n",
       "    </tr>\n",
       "    <tr>\n",
       "      <th>1</th>\n",
       "      <td>27.56</td>\n",
       "      <td>59.660</td>\n",
       "      <td>2.20</td>\n",
       "      <td>12.11</td>\n",
       "      <td>7.54</td>\n",
       "      <td>17.81</td>\n",
       "      <td>0.21</td>\n",
       "      <td>4.23</td>\n",
       "      <td>12.13</td>\n",
       "      <td>0.56</td>\n",
       "      <td>4.54</td>\n",
       "      <td>83.0</td>\n",
       "      <td>103.788650</td>\n",
       "    </tr>\n",
       "    <tr>\n",
       "      <th>2</th>\n",
       "      <td>24.94</td>\n",
       "      <td>53.600</td>\n",
       "      <td>1.66</td>\n",
       "      <td>10.82</td>\n",
       "      <td>6.52</td>\n",
       "      <td>17.42</td>\n",
       "      <td>0.30</td>\n",
       "      <td>4.28</td>\n",
       "      <td>13.13</td>\n",
       "      <td>0.52</td>\n",
       "      <td>4.20</td>\n",
       "      <td>82.0</td>\n",
       "      <td>103.111546</td>\n",
       "    </tr>\n",
       "    <tr>\n",
       "      <th>3</th>\n",
       "      <td>22.94</td>\n",
       "      <td>49.920</td>\n",
       "      <td>1.92</td>\n",
       "      <td>10.32</td>\n",
       "      <td>6.46</td>\n",
       "      <td>16.86</td>\n",
       "      <td>0.13</td>\n",
       "      <td>4.14</td>\n",
       "      <td>11.82</td>\n",
       "      <td>0.47</td>\n",
       "      <td>4.63</td>\n",
       "      <td>81.0</td>\n",
       "      <td>101.904110</td>\n",
       "    </tr>\n",
       "    <tr>\n",
       "      <th>4</th>\n",
       "      <td>22.57</td>\n",
       "      <td>49.755</td>\n",
       "      <td>1.94</td>\n",
       "      <td>9.82</td>\n",
       "      <td>6.22</td>\n",
       "      <td>16.35</td>\n",
       "      <td>0.15</td>\n",
       "      <td>4.26</td>\n",
       "      <td>10.31</td>\n",
       "      <td>0.48</td>\n",
       "      <td>3.91</td>\n",
       "      <td>78.0</td>\n",
       "      <td>99.743640</td>\n",
       "    </tr>\n",
       "  </tbody>\n",
       "</table>\n",
       "</div>"
      ],
      "text/plain": [
       "   PM2.5    PM10    NO    NO2   NOx    NH3    CO   SO2     O3  Benzene  \\\n",
       "0  30.42  69.580  2.04  12.40  7.58  19.10  0.19  4.05  12.41     0.56   \n",
       "1  27.56  59.660  2.20  12.11  7.54  17.81  0.21  4.23  12.13     0.56   \n",
       "2  24.94  53.600  1.66  10.82  6.52  17.42  0.30  4.28  13.13     0.52   \n",
       "3  22.94  49.920  1.92  10.32  6.46  16.86  0.13  4.14  11.82     0.47   \n",
       "4  22.57  49.755  1.94   9.82  6.22  16.35  0.15  4.26  10.31     0.48   \n",
       "\n",
       "   Toluene   AQI  Time_Season_Mean  \n",
       "0     3.43  84.0        104.679061  \n",
       "1     4.54  83.0        103.788650  \n",
       "2     4.20  82.0        103.111546  \n",
       "3     4.63  81.0        101.904110  \n",
       "4     3.91  78.0         99.743640  "
      ]
     },
     "execution_count": 4,
     "metadata": {},
     "output_type": "execute_result"
    }
   ],
   "source": [
    "df.head()"
   ]
  },
  {
   "cell_type": "code",
   "execution_count": 5,
   "id": "e7018481",
   "metadata": {},
   "outputs": [],
   "source": [
    "X = df.drop('AQI',axis=1)\n",
    "y = df['AQI']"
   ]
  },
  {
   "cell_type": "markdown",
   "id": "27eb1728",
   "metadata": {},
   "source": [
    "## Splitting Data for forcasting"
   ]
  },
  {
   "cell_type": "code",
   "execution_count": 6,
   "id": "1bb641dd",
   "metadata": {},
   "outputs": [],
   "source": [
    "training_size = int(len(df)*0.65)\n",
    "test_size = len(df)-training_size\n",
    "\n",
    "X_train = X[:training_size]\n",
    "X_test = X[training_size:]\n",
    "y_train = y[:training_size]\n",
    "y_test = y[training_size:]"
   ]
  },
  {
   "cell_type": "code",
   "execution_count": 13,
   "id": "10a922d9",
   "metadata": {},
   "outputs": [
    {
     "data": {
      "text/plain": [
       "((31324, 12), (16868, 12), (31324,), (16868,))"
      ]
     },
     "execution_count": 13,
     "metadata": {},
     "output_type": "execute_result"
    }
   ],
   "source": [
    "X_train.shape,X_test.shape,y_train.shape,y_test.shape"
   ]
  },
  {
   "cell_type": "markdown",
   "id": "8ae9f139",
   "metadata": {},
   "source": [
    "## Scaling the data"
   ]
  },
  {
   "cell_type": "code",
   "execution_count": 7,
   "id": "e6347a96",
   "metadata": {},
   "outputs": [],
   "source": [
    "from sklearn.preprocessing import MinMaxScaler"
   ]
  },
  {
   "cell_type": "code",
   "execution_count": 17,
   "id": "9cdfd35e",
   "metadata": {},
   "outputs": [],
   "source": [
    "sc_X = MinMaxScaler()\n",
    "sc_y = MinMaxScaler()"
   ]
  },
  {
   "cell_type": "code",
   "execution_count": 18,
   "id": "2ac9cc29",
   "metadata": {},
   "outputs": [],
   "source": [
    "X_train_sc = sc_X.fit_transform(X_train)\n",
    "y_train_sc = sc_y.fit_transform(np.array(y_train).reshape(-1, 1))"
   ]
  },
  {
   "cell_type": "code",
   "execution_count": 19,
   "id": "ce146f8a",
   "metadata": {},
   "outputs": [],
   "source": [
    "X_test_sc = sc_X.transform(X_test)\n",
    "y_test_sc = sc_y.transform(np.array(y_test).reshape(-1, 1))"
   ]
  },
  {
   "cell_type": "code",
   "execution_count": 28,
   "id": "296f8a27",
   "metadata": {},
   "outputs": [],
   "source": [
    "X_train_sc = pd.DataFrame(X_train_sc,columns=X.columns)\n",
    "\n",
    "X_test_sc = pd.DataFrame(X_test_sc,columns=X.columns)\n",
    "\n",
    "y_train_sc = pd.Series(y_train_sc.reshape(len(y_train_sc)),name='AQI')\n",
    "\n",
    "y_test_sc = pd.Series(y_test_sc.reshape(len(y_test_sc)),name='AQI')"
   ]
  },
  {
   "cell_type": "code",
   "execution_count": 29,
   "id": "2825903e",
   "metadata": {
    "scrolled": true
   },
   "outputs": [
    {
     "data": {
      "text/html": [
       "<div>\n",
       "<style scoped>\n",
       "    .dataframe tbody tr th:only-of-type {\n",
       "        vertical-align: middle;\n",
       "    }\n",
       "\n",
       "    .dataframe tbody tr th {\n",
       "        vertical-align: top;\n",
       "    }\n",
       "\n",
       "    .dataframe thead th {\n",
       "        text-align: right;\n",
       "    }\n",
       "</style>\n",
       "<table border=\"1\" class=\"dataframe\">\n",
       "  <thead>\n",
       "    <tr style=\"text-align: right;\">\n",
       "      <th></th>\n",
       "      <th>PM2.5</th>\n",
       "      <th>PM10</th>\n",
       "      <th>NO</th>\n",
       "      <th>NO2</th>\n",
       "      <th>NOx</th>\n",
       "      <th>NH3</th>\n",
       "      <th>CO</th>\n",
       "      <th>SO2</th>\n",
       "      <th>O3</th>\n",
       "      <th>Benzene</th>\n",
       "      <th>Toluene</th>\n",
       "      <th>Time_Season_Mean</th>\n",
       "    </tr>\n",
       "  </thead>\n",
       "  <tbody>\n",
       "    <tr>\n",
       "      <th>0</th>\n",
       "      <td>0.030411</td>\n",
       "      <td>0.069571</td>\n",
       "      <td>0.007003</td>\n",
       "      <td>0.034083</td>\n",
       "      <td>0.023223</td>\n",
       "      <td>0.039275</td>\n",
       "      <td>0.003803</td>\n",
       "      <td>0.020374</td>\n",
       "      <td>0.061693</td>\n",
       "      <td>0.001502</td>\n",
       "      <td>0.006868</td>\n",
       "      <td>0.835678</td>\n",
       "    </tr>\n",
       "    <tr>\n",
       "      <th>1</th>\n",
       "      <td>0.027551</td>\n",
       "      <td>0.059651</td>\n",
       "      <td>0.007561</td>\n",
       "      <td>0.033282</td>\n",
       "      <td>0.023100</td>\n",
       "      <td>0.036620</td>\n",
       "      <td>0.004203</td>\n",
       "      <td>0.021282</td>\n",
       "      <td>0.060292</td>\n",
       "      <td>0.001502</td>\n",
       "      <td>0.009091</td>\n",
       "      <td>0.813212</td>\n",
       "    </tr>\n",
       "    <tr>\n",
       "      <th>2</th>\n",
       "      <td>0.024930</td>\n",
       "      <td>0.053591</td>\n",
       "      <td>0.005679</td>\n",
       "      <td>0.029719</td>\n",
       "      <td>0.019975</td>\n",
       "      <td>0.035817</td>\n",
       "      <td>0.006005</td>\n",
       "      <td>0.021534</td>\n",
       "      <td>0.065296</td>\n",
       "      <td>0.001395</td>\n",
       "      <td>0.008410</td>\n",
       "      <td>0.796129</td>\n",
       "    </tr>\n",
       "    <tr>\n",
       "      <th>3</th>\n",
       "      <td>0.022930</td>\n",
       "      <td>0.049911</td>\n",
       "      <td>0.006585</td>\n",
       "      <td>0.028338</td>\n",
       "      <td>0.019792</td>\n",
       "      <td>0.034664</td>\n",
       "      <td>0.002602</td>\n",
       "      <td>0.020828</td>\n",
       "      <td>0.058741</td>\n",
       "      <td>0.001261</td>\n",
       "      <td>0.009271</td>\n",
       "      <td>0.765664</td>\n",
       "    </tr>\n",
       "    <tr>\n",
       "      <th>4</th>\n",
       "      <td>0.022560</td>\n",
       "      <td>0.049746</td>\n",
       "      <td>0.006655</td>\n",
       "      <td>0.026957</td>\n",
       "      <td>0.019056</td>\n",
       "      <td>0.033615</td>\n",
       "      <td>0.003002</td>\n",
       "      <td>0.021433</td>\n",
       "      <td>0.051186</td>\n",
       "      <td>0.001288</td>\n",
       "      <td>0.007829</td>\n",
       "      <td>0.711153</td>\n",
       "    </tr>\n",
       "    <tr>\n",
       "      <th>...</th>\n",
       "      <td>...</td>\n",
       "      <td>...</td>\n",
       "      <td>...</td>\n",
       "      <td>...</td>\n",
       "      <td>...</td>\n",
       "      <td>...</td>\n",
       "      <td>...</td>\n",
       "      <td>...</td>\n",
       "      <td>...</td>\n",
       "      <td>...</td>\n",
       "      <td>...</td>\n",
       "      <td>...</td>\n",
       "    </tr>\n",
       "    <tr>\n",
       "      <th>31319</th>\n",
       "      <td>0.023710</td>\n",
       "      <td>0.109972</td>\n",
       "      <td>0.019268</td>\n",
       "      <td>0.041319</td>\n",
       "      <td>0.040319</td>\n",
       "      <td>0.042960</td>\n",
       "      <td>0.021217</td>\n",
       "      <td>0.028090</td>\n",
       "      <td>0.059992</td>\n",
       "      <td>0.001368</td>\n",
       "      <td>0.007209</td>\n",
       "      <td>0.395839</td>\n",
       "    </tr>\n",
       "    <tr>\n",
       "      <th>31320</th>\n",
       "      <td>0.017200</td>\n",
       "      <td>0.079322</td>\n",
       "      <td>0.013763</td>\n",
       "      <td>0.029829</td>\n",
       "      <td>0.029167</td>\n",
       "      <td>0.043145</td>\n",
       "      <td>0.013411</td>\n",
       "      <td>0.031217</td>\n",
       "      <td>0.070399</td>\n",
       "      <td>0.000644</td>\n",
       "      <td>0.005607</td>\n",
       "      <td>0.370973</td>\n",
       "    </tr>\n",
       "    <tr>\n",
       "      <th>31321</th>\n",
       "      <td>0.029491</td>\n",
       "      <td>0.050131</td>\n",
       "      <td>0.014494</td>\n",
       "      <td>0.026211</td>\n",
       "      <td>0.027267</td>\n",
       "      <td>0.044010</td>\n",
       "      <td>0.011809</td>\n",
       "      <td>0.034344</td>\n",
       "      <td>0.073051</td>\n",
       "      <td>0.000885</td>\n",
       "      <td>0.005987</td>\n",
       "      <td>0.323271</td>\n",
       "    </tr>\n",
       "    <tr>\n",
       "      <th>31322</th>\n",
       "      <td>0.021560</td>\n",
       "      <td>0.037501</td>\n",
       "      <td>0.012717</td>\n",
       "      <td>0.022731</td>\n",
       "      <td>0.023897</td>\n",
       "      <td>0.043145</td>\n",
       "      <td>0.011609</td>\n",
       "      <td>0.033184</td>\n",
       "      <td>0.077454</td>\n",
       "      <td>0.000617</td>\n",
       "      <td>0.005306</td>\n",
       "      <td>0.306358</td>\n",
       "    </tr>\n",
       "    <tr>\n",
       "      <th>31323</th>\n",
       "      <td>0.021420</td>\n",
       "      <td>0.032471</td>\n",
       "      <td>0.010662</td>\n",
       "      <td>0.023035</td>\n",
       "      <td>0.022855</td>\n",
       "      <td>0.044072</td>\n",
       "      <td>0.012610</td>\n",
       "      <td>0.036159</td>\n",
       "      <td>0.067898</td>\n",
       "      <td>0.000483</td>\n",
       "      <td>0.004706</td>\n",
       "      <td>0.237210</td>\n",
       "    </tr>\n",
       "  </tbody>\n",
       "</table>\n",
       "<p>31324 rows × 12 columns</p>\n",
       "</div>"
      ],
      "text/plain": [
       "          PM2.5      PM10        NO       NO2       NOx       NH3        CO  \\\n",
       "0      0.030411  0.069571  0.007003  0.034083  0.023223  0.039275  0.003803   \n",
       "1      0.027551  0.059651  0.007561  0.033282  0.023100  0.036620  0.004203   \n",
       "2      0.024930  0.053591  0.005679  0.029719  0.019975  0.035817  0.006005   \n",
       "3      0.022930  0.049911  0.006585  0.028338  0.019792  0.034664  0.002602   \n",
       "4      0.022560  0.049746  0.006655  0.026957  0.019056  0.033615  0.003002   \n",
       "...         ...       ...       ...       ...       ...       ...       ...   \n",
       "31319  0.023710  0.109972  0.019268  0.041319  0.040319  0.042960  0.021217   \n",
       "31320  0.017200  0.079322  0.013763  0.029829  0.029167  0.043145  0.013411   \n",
       "31321  0.029491  0.050131  0.014494  0.026211  0.027267  0.044010  0.011809   \n",
       "31322  0.021560  0.037501  0.012717  0.022731  0.023897  0.043145  0.011609   \n",
       "31323  0.021420  0.032471  0.010662  0.023035  0.022855  0.044072  0.012610   \n",
       "\n",
       "            SO2        O3   Benzene   Toluene  Time_Season_Mean  \n",
       "0      0.020374  0.061693  0.001502  0.006868          0.835678  \n",
       "1      0.021282  0.060292  0.001502  0.009091          0.813212  \n",
       "2      0.021534  0.065296  0.001395  0.008410          0.796129  \n",
       "3      0.020828  0.058741  0.001261  0.009271          0.765664  \n",
       "4      0.021433  0.051186  0.001288  0.007829          0.711153  \n",
       "...         ...       ...       ...       ...               ...  \n",
       "31319  0.028090  0.059992  0.001368  0.007209          0.395839  \n",
       "31320  0.031217  0.070399  0.000644  0.005607          0.370973  \n",
       "31321  0.034344  0.073051  0.000885  0.005987          0.323271  \n",
       "31322  0.033184  0.077454  0.000617  0.005306          0.306358  \n",
       "31323  0.036159  0.067898  0.000483  0.004706          0.237210  \n",
       "\n",
       "[31324 rows x 12 columns]"
      ]
     },
     "execution_count": 29,
     "metadata": {},
     "output_type": "execute_result"
    }
   ],
   "source": [
    "X_train_sc"
   ]
  },
  {
   "cell_type": "markdown",
   "id": "e015bf87",
   "metadata": {},
   "source": [
    "## Saving Scaler and the scaled data"
   ]
  },
  {
   "cell_type": "code",
   "execution_count": 30,
   "id": "d26ae20a",
   "metadata": {},
   "outputs": [],
   "source": [
    "import pickle"
   ]
  },
  {
   "cell_type": "code",
   "execution_count": 31,
   "id": "b59787be",
   "metadata": {},
   "outputs": [],
   "source": [
    "with open('Data/X_scaler.pkl', 'wb') as handle:\n",
    "    pickle.dump(sc_X, handle)"
   ]
  },
  {
   "cell_type": "code",
   "execution_count": 32,
   "id": "0db67255",
   "metadata": {},
   "outputs": [],
   "source": [
    "with open('Data/y_scaler.pkl', 'wb') as handle:\n",
    "    pickle.dump(sc_y, handle)"
   ]
  },
  {
   "cell_type": "code",
   "execution_count": 33,
   "id": "1a6b8547",
   "metadata": {},
   "outputs": [],
   "source": [
    "X_train_sc.to_csv('Data/Final/X_train_sc.csv',index=False)\n",
    "y_train_sc.to_csv('Data/Final/y_train_sc.csv',index=False)\n",
    "\n",
    "X_test_sc.to_csv('Data/Final/X_test_sc.csv',index=False)\n",
    "y_test_sc.to_csv('Data/Final/y_test_sc.csv',index=False)"
   ]
  },
  {
   "cell_type": "markdown",
   "id": "fdecbe0a",
   "metadata": {},
   "source": [
    "## Creating Time Series Data "
   ]
  },
  {
   "cell_type": "code",
   "execution_count": 34,
   "id": "6c986d05",
   "metadata": {},
   "outputs": [],
   "source": [
    "def create_timeseries_dataset(dataset,time_step=1):\n",
    "    x,y = [],[]\n",
    "    for i in range(len(dataset)-time_step-1):\n",
    "        a = dataset[i:(i+time_step)]\n",
    "        #print(dataset)\n",
    "        x.append(a)\n",
    "        y.append(dataset[i+time_step,-1])\n",
    "    return np.array(x),np.array(y)"
   ]
  },
  {
   "cell_type": "code",
   "execution_count": 36,
   "id": "2d23a99d",
   "metadata": {},
   "outputs": [],
   "source": [
    "train_sc = np.concatenate((X_train_sc,np.array(y_train_sc).reshape(-1,1)),axis=1)\n",
    "test_sc = np.concatenate((X_test_sc,np.array(y_test_sc).reshape(-1,1)),axis=1)"
   ]
  },
  {
   "cell_type": "code",
   "execution_count": 37,
   "id": "9af0d503",
   "metadata": {},
   "outputs": [
    {
     "data": {
      "text/plain": [
       "((31324, 13), (16868, 13))"
      ]
     },
     "execution_count": 37,
     "metadata": {},
     "output_type": "execute_result"
    }
   ],
   "source": [
    "train_sc.shape,test_sc.shape"
   ]
  },
  {
   "cell_type": "code",
   "execution_count": 38,
   "id": "2bba6538",
   "metadata": {},
   "outputs": [],
   "source": [
    "time_step = 10\n",
    "X_train,y_train = create_timeseries_dataset(train_sc,time_step=time_step)\n",
    "X_test,y_test = create_timeseries_dataset(test_sc,time_step=time_step)"
   ]
  },
  {
   "cell_type": "code",
   "execution_count": 39,
   "id": "d561cbc7",
   "metadata": {},
   "outputs": [
    {
     "data": {
      "text/plain": [
       "((31313, 10, 13), (16857, 10, 13), (31313,), (16857,))"
      ]
     },
     "execution_count": 39,
     "metadata": {},
     "output_type": "execute_result"
    }
   ],
   "source": [
    "X_train.shape,X_test.shape,y_train.shape,y_test.shape"
   ]
  },
  {
   "cell_type": "code",
   "execution_count": 40,
   "id": "f65eb796",
   "metadata": {},
   "outputs": [],
   "source": [
    "def flatten_timeseries_data(dataset):\n",
    "    new_data = []\n",
    "    for i in range(len(dataset)):\n",
    "        x = dataset[i].flatten()\n",
    "        new_data.append(x)\n",
    "    new_data = np.array(new_data)\n",
    "    return new_data"
   ]
  },
  {
   "cell_type": "code",
   "execution_count": 41,
   "id": "828aee19",
   "metadata": {},
   "outputs": [],
   "source": [
    "X_train = flatten_timeseries_data(X_train)\n",
    "X_test = flatten_timeseries_data(X_test)"
   ]
  },
  {
   "cell_type": "code",
   "execution_count": 42,
   "id": "7c4f5e4b",
   "metadata": {},
   "outputs": [
    {
     "data": {
      "text/plain": [
       "((31313, 130), (16857, 130), (31313,), (16857,))"
      ]
     },
     "execution_count": 42,
     "metadata": {},
     "output_type": "execute_result"
    }
   ],
   "source": [
    "X_train.shape,X_test.shape,y_train.shape,y_test.shape"
   ]
  },
  {
   "cell_type": "code",
   "execution_count": 43,
   "id": "36e5f148",
   "metadata": {},
   "outputs": [],
   "source": [
    "## Reshape input to be [samples,time_steps,features] which is required for LSTM\n",
    "\n",
    "X_train = X_train.reshape(X_train.shape[0],X_train.shape[1],1)\n",
    "X_test = X_test.reshape(X_test.shape[0],X_test.shape[1],1)"
   ]
  },
  {
   "cell_type": "code",
   "execution_count": 44,
   "id": "b7a1965f",
   "metadata": {},
   "outputs": [
    {
     "data": {
      "text/plain": [
       "((31313, 130, 1), (16857, 130, 1), (31313,), (16857,))"
      ]
     },
     "execution_count": 44,
     "metadata": {},
     "output_type": "execute_result"
    }
   ],
   "source": [
    "X_train.shape,X_test.shape,y_train.shape,y_test.shape"
   ]
  },
  {
   "cell_type": "code",
   "execution_count": 46,
   "id": "c781a67c",
   "metadata": {},
   "outputs": [],
   "source": [
    "np.save('Data/Final/Time series/X_train.npy', X_train)\n",
    "np.save('Data/Final/Time series/X_test.npy', X_test)\n",
    "np.save('Data/Final/Time series/y_train.npy', y_train)\n",
    "np.save('Data/Final/Time series/y_test.npy', y_test)"
   ]
  },
  {
   "cell_type": "code",
   "execution_count": 50,
   "id": "da5097c9",
   "metadata": {},
   "outputs": [],
   "source": [
    "X_train_ld = np.load('Data/Final/Time series/y_test.npy')"
   ]
  },
  {
   "cell_type": "code",
   "execution_count": 51,
   "id": "32d97ff4",
   "metadata": {},
   "outputs": [
    {
     "data": {
      "text/plain": [
       "(16857,)"
      ]
     },
     "execution_count": 51,
     "metadata": {},
     "output_type": "execute_result"
    }
   ],
   "source": [
    "X_train_ld.shape"
   ]
  }
 ],
 "metadata": {
  "kernelspec": {
   "display_name": "Python 3",
   "language": "python",
   "name": "python3"
  },
  "language_info": {
   "codemirror_mode": {
    "name": "ipython",
    "version": 3
   },
   "file_extension": ".py",
   "mimetype": "text/x-python",
   "name": "python",
   "nbconvert_exporter": "python",
   "pygments_lexer": "ipython3",
   "version": "3.8.8"
  }
 },
 "nbformat": 4,
 "nbformat_minor": 5
}
